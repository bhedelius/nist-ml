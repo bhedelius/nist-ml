{
 "cells": [
  {
   "cell_type": "code",
   "execution_count": null,
   "id": "567f8337",
   "metadata": {},
   "outputs": [
    {
     "name": "stdout",
     "output_type": "stream",
     "text": [
      "The autoreload extension is already loaded. To reload it, use:\n",
      "  %reload_ext autoreload\n"
     ]
    }
   ],
   "source": [
    "%load_ext autoreload\n",
    "%autoreload 2\n",
    "%run setup\n",
    "\n",
    "from nist_ml.nist_scraper import NISTScraper"
   ]
  },
  {
   "cell_type": "code",
   "execution_count": null,
   "id": "870d0431",
   "metadata": {},
   "outputs": [],
   "source": [
    "scraper = NISTScraper(200)\n",
    "formula_hrefs = await scraper.collect_all_formula_hrefs()\n",
    "print(f\"Found {len(formula_hrefs)} formula hrefs\")\n",
    "with open(\"../data/formula_hrefs.txt\", \"w\") as f:\n",
    "    f.write(\"\\n\".join(formula_hrefs))"
   ]
  },
  {
   "cell_type": "code",
   "execution_count": null,
   "id": "5cbe1a3e",
   "metadata": {},
   "outputs": [],
   "source": []
  }
 ],
 "metadata": {
  "kernelspec": {
   "display_name": ".venv",
   "language": "python",
   "name": "python3"
  },
  "language_info": {
   "codemirror_mode": {
    "name": "ipython",
    "version": 3
   },
   "file_extension": ".py",
   "mimetype": "text/x-python",
   "name": "python",
   "nbconvert_exporter": "python",
   "pygments_lexer": "ipython3",
   "version": "3.12.3"
  }
 },
 "nbformat": 4,
 "nbformat_minor": 5
}
